{
 "cells": [
  {
   "cell_type": "markdown",
   "metadata": {},
   "source": [
    "# Introduction to list datatype.\n",
    "\n",
    "1.List is a mutatble datatype.....i.e., which can be changed.\n",
    "\n",
    "A List is a collection of items in a particular order.\n",
    "\n",
    "It is defined using []."
   ]
  },
  {
   "cell_type": "code",
   "execution_count": 8,
   "metadata": {},
   "outputs": [
    {
     "name": "stdout",
     "output_type": "stream",
     "text": [
      "['Hercules', 'Hero', 'Ranger', 'Redline']\n",
      "Ranger\n"
     ]
    }
   ],
   "source": [
    "##Defining a List\n",
    "\n",
    "bicycles = ['Hercules', 'Hero', 'Ranger', 'Redline']\n",
    "\n",
    "print(bicycles)\n",
    "\n",
    "#how to print a particlar item in a list --> Using Indexes\n",
    "##Indexes:  knowing the positions of list items......it starts from ...0, 1, 2, 3,....\n",
    "\n",
    "#to print the Ranger as output\n",
    "\n",
    "print(bicycles[2])\n",
    "\n",
    "\n",
    "##what will happen, if we'll provide the index out of range? --> It will give us Index error....range out of scope"
   ]
  },
  {
   "cell_type": "code",
   "execution_count": 9,
   "metadata": {},
   "outputs": [
    {
     "name": "stdout",
     "output_type": "stream",
     "text": [
      "Ranger\n",
      "RANGER\n",
      "ranger\n"
     ]
    }
   ],
   "source": [
    "##Using Different string functions.....i.e.,title(), upper(), lower()..\n",
    "\n",
    "bicycles = ['Hercules', 'Hero', 'Ranger', 'Redline']\n",
    "\n",
    "print(bicycles[2].title())\n",
    "\n",
    "print(bicycles[2].upper())\n",
    "\n",
    "print(bicycles[2].lower())\n"
   ]
  },
  {
   "cell_type": "code",
   "execution_count": 11,
   "metadata": {},
   "outputs": [
    {
     "name": "stdout",
     "output_type": "stream",
     "text": [
      "My favorite bicycle is Ranger.\n"
     ]
    }
   ],
   "source": [
    "bicycles = ['Hercules', 'Hero', 'Ranger', 'Redline']\n",
    "\n",
    "message = f\"My favorite bicycle is {bicycles[2].title()}.\"\n",
    "\n",
    "print(message)\n"
   ]
  },
  {
   "cell_type": "code",
   "execution_count": 13,
   "metadata": {},
   "outputs": [
    {
     "name": "stdout",
     "output_type": "stream",
     "text": [
      "['honda', 'Yamaha', 'Suzuki']\n",
      "['ducati', 'Yamaha', 'Suzuki']\n"
     ]
    }
   ],
   "source": [
    "#how to change, add and modify elements in a list\n",
    "\n",
    "motorcycles= ['honda', 'Yamaha', 'Suzuki']\n",
    "\n",
    "print(motorcycles)\n",
    "\n",
    "#How to change element in a list --> by using index positions.\n",
    "\n",
    "motorcycles[0] = 'ducati'\n",
    "\n",
    "print(motorcycles)\n"
   ]
  },
  {
   "cell_type": "code",
   "execution_count": 14,
   "metadata": {},
   "outputs": [
    {
     "name": "stdout",
     "output_type": "stream",
     "text": [
      "['honda', 'Yamaha', 'Suzuki']\n",
      "['honda', 'Yamaha', 'Suzuki', 'ducati']\n",
      "['honda', 'hero', 'Yamaha', 'Suzuki', 'ducati']\n"
     ]
    }
   ],
   "source": [
    "#how to add or append an element in a list\n",
    "\n",
    "motorcycles= ['honda', 'Yamaha', 'Suzuki']\n",
    "\n",
    "print(motorcycles)\n",
    "\n",
    "motorcycles.append('ducati')\n",
    "print(motorcycles)\n",
    "\n",
    "\n",
    "#Point to remember\n",
    "#how to insert an element at a particular position in a list.....using the insert function..\n",
    "\n",
    "##to insert Hero at index 1 in the list....\n",
    "\n",
    "motorcycles.insert(1, 'hero')\n",
    "\n",
    "print(motorcycles)"
   ]
  },
  {
   "cell_type": "code",
   "execution_count": 16,
   "metadata": {},
   "outputs": [
    {
     "data": {
      "text/plain": [
       "['honda', 'audi', 'bmw']"
      ]
     },
     "execution_count": 16,
     "metadata": {},
     "output_type": "execute_result"
    }
   ],
   "source": [
    "##Creating an empty list...\n",
    "\n",
    "car = []\n",
    "\n",
    "car.append('audi')\n",
    "car.append('bmw')\n",
    "car.insert(0, 'honda')\n",
    "\n",
    "##print the list...\n",
    "car"
   ]
  },
  {
   "cell_type": "code",
   "execution_count": 19,
   "metadata": {},
   "outputs": [
    {
     "name": "stdout",
     "output_type": "stream",
     "text": [
      "['honda', 'Yamaha', 'Suzuki', 'hero']\n",
      "['honda', 'Yamaha', 'hero']\n",
      "['honda', 'hero']\n"
     ]
    }
   ],
   "source": [
    "##how to delete an element from the list\n",
    "\n",
    "motorcycles= ['honda', 'Yamaha', 'Suzuki', 'hero']\n",
    "\n",
    "print(motorcycles)\n",
    "\n",
    "#to delete Suzuki from the list... \n",
    "\n",
    "del motorcycles[2]\n",
    "\n",
    "print(motorcycles)\n",
    "\n",
    "\n",
    "##Point to remember.....we can also use pop() function to delete the element from the list\n",
    "\n",
    "#pop() function, by default removes the last element from the list.\n",
    "\n",
    "#pop() will not delete the elements permanently from the list......the deleted item will be hold somewhere else in the memory,\n",
    "#while del will delete the element permanently from the list.\n",
    "\n",
    "motorcycles.pop(1)\n",
    "\n",
    "print(motorcycles)"
   ]
  },
  {
   "cell_type": "code",
   "execution_count": 23,
   "metadata": {},
   "outputs": [
    {
     "name": "stdout",
     "output_type": "stream",
     "text": [
      "['Honda', 'Yamaha', 'Suzuki', 'Hero']\n",
      "['Hero', 'Honda', 'Suzuki', 'Yamaha']\n"
     ]
    },
    {
     "data": {
      "text/plain": [
       "['Yamaha', 'Suzuki', 'Honda', 'Hero']"
      ]
     },
     "execution_count": 23,
     "metadata": {},
     "output_type": "execute_result"
    }
   ],
   "source": [
    "## Sorting the list........for arranging the lists in a particular order.....\n",
    "#sorting is done in alphabetical order based on ASCII values......like both small and capital case are different.\n",
    "\n",
    "motorcycles= ['Honda', 'Yamaha', 'Suzuki', 'Hero']\n",
    "\n",
    "print(motorcycles)\n",
    "\n",
    "motorcycles.sort()\n",
    "print(motorcycles)\n",
    "\n",
    "#how to print the elements in a lists in reverse order...?\n",
    "\n",
    "motorcycles.reverse()\n",
    "motorcycles"
   ]
  },
  {
   "cell_type": "code",
   "execution_count": 24,
   "metadata": {},
   "outputs": [
    {
     "data": {
      "text/plain": [
       "4"
      ]
     },
     "execution_count": 24,
     "metadata": {},
     "output_type": "execute_result"
    }
   ],
   "source": [
    "#how to count the no. of elements in a list?....using len() function\n",
    "\n",
    "motorcycles= ['Honda', 'Yamaha', 'Suzuki', 'Hero']\n",
    "\n",
    "len(motorcycles)\n"
   ]
  },
  {
   "cell_type": "code",
   "execution_count": 1,
   "metadata": {},
   "outputs": [
    {
     "name": "stdout",
     "output_type": "stream",
     "text": [
      "harry\n",
      "dumbeldore\n",
      "hormanie\n",
      "anand\n"
     ]
    }
   ],
   "source": [
    "##Introduction to for loop\n",
    "\n",
    "#looping through an entire list.\n",
    "\n",
    "magicians =['harry','dumbeldore','hormanie','anand']\n",
    "\n",
    "for magician in magicians:\n",
    "    print(magician)\n",
    "    \n",
    "#the space before above print statement is called indentation."
   ]
  },
  {
   "cell_type": "code",
   "execution_count": 5,
   "metadata": {},
   "outputs": [
    {
     "name": "stdout",
     "output_type": "stream",
     "text": [
      "Harry, that was a good trick\n",
      "Dumbeldore, that was a good trick\n",
      "Hormanie, that was a good trick\n",
      "Anand, that was a good trick\n",
      "\n",
      "I can't wait to see your next trick, Anand\n"
     ]
    }
   ],
   "source": [
    "magicians =['harry','dumbeldore','hormanie','anand']\n",
    "\n",
    "for x in magicians:\n",
    "    print(f\"{x.title()}, that was a good trick\")\n",
    "    \n",
    "print(f\"\\nI can't wait to see your next trick, {x.title()}\")"
   ]
  },
  {
   "cell_type": "code",
   "execution_count": 7,
   "metadata": {},
   "outputs": [
    {
     "name": "stdout",
     "output_type": "stream",
     "text": [
      "1\n",
      "2\n",
      "3\n",
      "4\n"
     ]
    }
   ],
   "source": [
    "#making numerical list......!!\n",
    "\n",
    "for x in range(1,5):\n",
    "    print(x)\n",
    "    \n",
    "#how the range function works....e.g. range(1,5)==> 1, 2, 3, 4\n"
   ]
  },
  {
   "cell_type": "code",
   "execution_count": 8,
   "metadata": {},
   "outputs": [
    {
     "name": "stdout",
     "output_type": "stream",
     "text": [
      "[1, 2, 3, 4, 5]\n"
     ]
    }
   ],
   "source": [
    "#using range to define a list\n",
    "\n",
    "num=list(range(1,6))\n",
    "print(num)"
   ]
  },
  {
   "cell_type": "code",
   "execution_count": 9,
   "metadata": {},
   "outputs": [
    {
     "name": "stdout",
     "output_type": "stream",
     "text": [
      "[2, 4, 6, 8, 10, 12, 14, 16, 18]\n"
     ]
    }
   ],
   "source": [
    "#printing even numbers in a given range\n",
    "\n",
    "even_number = list(range(2, 20,2))\n",
    "print(even_number)"
   ]
  },
  {
   "cell_type": "code",
   "execution_count": 11,
   "metadata": {},
   "outputs": [
    {
     "name": "stdout",
     "output_type": "stream",
     "text": [
      "36\n",
      "8\n"
     ]
    },
    {
     "data": {
      "text/plain": [
       "1"
      ]
     },
     "execution_count": 11,
     "metadata": {},
     "output_type": "execute_result"
    }
   ],
   "source": [
    "#how to perform some statistical operations\n",
    "\n",
    "digits = [1,2,3,4,5,6,7,8]\n",
    "\n",
    "print(sum(digits))\n",
    "print(max(digits))\n",
    "min(digits)"
   ]
  },
  {
   "cell_type": "code",
   "execution_count": 13,
   "metadata": {},
   "outputs": [
    {
     "name": "stdout",
     "output_type": "stream",
     "text": [
      "['virat', 'dravid', 'kumble']\n"
     ]
    }
   ],
   "source": [
    "#Slicing of lists.....\n",
    "\n",
    "players = ['yuvraj','sachin','virat','dravid','kumble']\n",
    "\n",
    "print(players[2:])\n"
   ]
  }
 ],
 "metadata": {
  "kernelspec": {
   "display_name": "Python 3",
   "language": "python",
   "name": "python3"
  },
  "language_info": {
   "codemirror_mode": {
    "name": "ipython",
    "version": 3
   },
   "file_extension": ".py",
   "mimetype": "text/x-python",
   "name": "python",
   "nbconvert_exporter": "python",
   "pygments_lexer": "ipython3",
   "version": "3.7.3"
  }
 },
 "nbformat": 4,
 "nbformat_minor": 2
}
