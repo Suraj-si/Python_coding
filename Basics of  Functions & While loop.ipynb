{
 "cells": [
  {
   "cell_type": "code",
   "execution_count": 1,
   "metadata": {},
   "outputs": [
    {
     "name": "stdout",
     "output_type": "stream",
     "text": [
      "1\n",
      "2\n",
      "3\n",
      "4\n",
      "5\n",
      "6\n",
      "7\n"
     ]
    }
   ],
   "source": [
    "# Introduction to while loop\n",
    "\n",
    "num = 1\n",
    "\n",
    "while num <= 7 :\n",
    "    print(num)\n",
    "    num = num + 1\n"
   ]
  },
  {
   "cell_type": "code",
   "execution_count": 2,
   "metadata": {},
   "outputs": [
    {
     "name": "stdout",
     "output_type": "stream",
     "text": [
      "Hello\n"
     ]
    }
   ],
   "source": [
    "# Introduction to function\n",
    "\n",
    "#Function is used to perform the repeated task that we do in a program.\n",
    "\n",
    "def greet_user(): #function name\n",
    "    \"\"\"Display a simple greeting message.\"\"\"  # Doc string....explain what the fun is doing\n",
    "    print(\"Hello\")\n",
    "    \n",
    "greet_user()"
   ]
  },
  {
   "cell_type": "code",
   "execution_count": 4,
   "metadata": {},
   "outputs": [
    {
     "name": "stdout",
     "output_type": "stream",
     "text": [
      "Hello, Shubham\n"
     ]
    }
   ],
   "source": [
    "def greet_user(username): #here username is the defining parameter\n",
    "    \"\"\"Display a simple greeting message.\"\"\"  # Doc string....explain what the fun is doing\n",
    "    print(f\"Hello, {username.title()}\")\n",
    "    \n",
    "greet_user(\"shubham\") # Function calling --> argument passing"
   ]
  },
  {
   "cell_type": "code",
   "execution_count": null,
   "metadata": {},
   "outputs": [],
   "source": [
    "# Note: The values that we pass while defining the function is called parameters\n",
    "#       The values the we pass when calling the function are called arguments.\n",
    "\n",
    "# More info about pasing argument:\n",
    "\n",
    "# 1. Positional arguments\n",
    "# 2. Keyword arguments"
   ]
  },
  {
   "cell_type": "code",
   "execution_count": 7,
   "metadata": {},
   "outputs": [
    {
     "name": "stdout",
     "output_type": "stream",
     "text": [
      "I have a husky\n",
      "My husky's name is bruno\n",
      "I have a husky\n",
      "My husky's name is lilly\n"
     ]
    }
   ],
   "source": [
    "def describe_pet(animal_type, pet_name):\n",
    "    print(f\"I have a {animal_type}\")\n",
    "    print(f\"My {animal_type}'s name is {pet_name}\")\n",
    "    \n",
    "describe_pet('husky', 'bruno') #positional arguments\n",
    "\n",
    "describe_pet(pet_name = 'lilly', animal_type = 'husky') #keyword arguments"
   ]
  },
  {
   "cell_type": "code",
   "execution_count": null,
   "metadata": {},
   "outputs": [],
   "source": []
  }
 ],
 "metadata": {
  "kernelspec": {
   "display_name": "Python 3",
   "language": "python",
   "name": "python3"
  },
  "language_info": {
   "codemirror_mode": {
    "name": "ipython",
    "version": 3
   },
   "file_extension": ".py",
   "mimetype": "text/x-python",
   "name": "python",
   "nbconvert_exporter": "python",
   "pygments_lexer": "ipython3",
   "version": "3.7.3"
  }
 },
 "nbformat": 4,
 "nbformat_minor": 2
}
