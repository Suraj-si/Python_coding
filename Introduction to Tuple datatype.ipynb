{
 "cells": [
  {
   "cell_type": "code",
   "execution_count": 1,
   "metadata": {},
   "outputs": [
    {
     "name": "stdout",
     "output_type": "stream",
     "text": [
      "(10, 20)\n"
     ]
    }
   ],
   "source": [
    "#Introduction to Tuple datatype.\n",
    "\n",
    "# --> Tuple is a immumtable datatype.\n",
    "\n",
    "#why tuple is needed ?\n",
    "#if we want create a list of items that cannot be change, then we will use tuple datatype.\n",
    "\n",
    "#How to declare a tuple?\n",
    "#tuple can be created by using parenthesis..()\n",
    "\n",
    "#Example:to declare the dimension of a rectangle\n",
    "\n",
    "dim = (10,20)\n",
    "\n",
    "print (dim)\n"
   ]
  },
  {
   "cell_type": "code",
   "execution_count": 2,
   "metadata": {},
   "outputs": [
    {
     "ename": "TypeError",
     "evalue": "'tuple' object does not support item assignment",
     "output_type": "error",
     "traceback": [
      "\u001b[1;31m---------------------------------------------------------------------------\u001b[0m",
      "\u001b[1;31mTypeError\u001b[0m                                 Traceback (most recent call last)",
      "\u001b[1;32m<ipython-input-2-06ccb92c3cc1>\u001b[0m in \u001b[0;36m<module>\u001b[1;34m\u001b[0m\n\u001b[0;32m      3\u001b[0m \u001b[1;33m\u001b[0m\u001b[0m\n\u001b[0;32m      4\u001b[0m \u001b[0mdim\u001b[0m \u001b[1;33m=\u001b[0m \u001b[1;33m(\u001b[0m\u001b[1;36m10\u001b[0m\u001b[1;33m,\u001b[0m\u001b[1;36m20\u001b[0m\u001b[1;33m)\u001b[0m\u001b[1;33m\u001b[0m\u001b[1;33m\u001b[0m\u001b[0m\n\u001b[1;32m----> 5\u001b[1;33m \u001b[0mdim\u001b[0m\u001b[1;33m[\u001b[0m\u001b[1;36m0\u001b[0m\u001b[1;33m]\u001b[0m\u001b[1;33m=\u001b[0m\u001b[1;36m25\u001b[0m\u001b[1;33m\u001b[0m\u001b[1;33m\u001b[0m\u001b[0m\n\u001b[0m\u001b[0;32m      6\u001b[0m \u001b[0mprint\u001b[0m \u001b[1;33m(\u001b[0m\u001b[0mdim\u001b[0m\u001b[1;33m)\u001b[0m\u001b[1;33m\u001b[0m\u001b[1;33m\u001b[0m\u001b[0m\n",
      "\u001b[1;31mTypeError\u001b[0m: 'tuple' object does not support item assignment"
     ]
    }
   ],
   "source": [
    "#what happen if we try to assign a value to tuple?\n",
    "# --> It will give the Type Error with Note that, Tuple object does not support item assignments.\n",
    "\n",
    "dim = (10,20)\n",
    "\n",
    "dim[0]=25\n",
    "\n",
    "print (dim)"
   ]
  },
  {
   "cell_type": "code",
   "execution_count": 4,
   "metadata": {},
   "outputs": [
    {
     "name": "stdout",
     "output_type": "stream",
     "text": [
      "10\n",
      "20\n",
      "30\n"
     ]
    }
   ],
   "source": [
    "#Looping in Tuple using For loop\n",
    "\n",
    "dim1 =(10,20,30)\n",
    "\n",
    "for val in dim1:\n",
    "    print(val)\n",
    "    "
   ]
  },
  {
   "cell_type": "code",
   "execution_count": 5,
   "metadata": {},
   "outputs": [
    {
     "data": {
      "text/plain": [
       "(10, 20, 50)"
      ]
     },
     "execution_count": 5,
     "metadata": {},
     "output_type": "execute_result"
    }
   ],
   "source": [
    "# Writing over tuple ---> here we are declaring the tuple again from the scratch to update the old values.\n",
    "\n",
    "dim1=(10,20,30) #original dimensions\n",
    "\n",
    "dim1=(10,20,50) #updated dimensions\n",
    "\n",
    "dim1\n"
   ]
  },
  {
   "cell_type": "code",
   "execution_count": null,
   "metadata": {},
   "outputs": [],
   "source": [
    "#The Styling guide --> PEP8\n",
    "#PEP --> Python Enhancement Proposal version 8\n",
    "\n",
    "# 1. line length -- sjould not exceeds more than 80 words.\n",
    "# 2. blank line --should be maintained for clarity of the code.\n",
    "# 3. indentation --4 consective blank space"
   ]
  },
  {
   "cell_type": "code",
   "execution_count": null,
   "metadata": {},
   "outputs": [],
   "source": [
    "# Introduction to if condition \n",
    "\n",
    "#Syntax :\n",
    "# if test_condition:\n",
    "#    do_something"
   ]
  },
  {
   "cell_type": "code",
   "execution_count": 6,
   "metadata": {},
   "outputs": [
    {
     "name": "stdout",
     "output_type": "stream",
     "text": [
      "Audi\n",
      "BMW\n",
      "Benz\n",
      "Hondacity\n"
     ]
    }
   ],
   "source": [
    "#Case: If my car is bmw, then convert it to upper case otherwise title case.\n",
    "\n",
    "cars = ('audi','bmw','benz','hondacity')\n",
    "\n",
    "for car in cars:\n",
    "    if car == 'bmw':\n",
    "        print(car.upper())\n",
    "    else:\n",
    "        print(car.title())\n",
    "        "
   ]
  },
  {
   "cell_type": "code",
   "execution_count": 10,
   "metadata": {},
   "outputs": [
    {
     "data": {
      "text/plain": [
       "False"
      ]
     },
     "execution_count": 10,
     "metadata": {},
     "output_type": "execute_result"
    }
   ],
   "source": [
    "# True or false statement\n",
    "\n",
    "car=\" Rangerover\" # also, even a space in the beginning of comparing string will make the false.\n",
    "\n",
    "car.lower() =='rangerover' #the equality condition is false, as it is case sensitive"
   ]
  },
  {
   "cell_type": "code",
   "execution_count": 13,
   "metadata": {},
   "outputs": [
    {
     "name": "stdout",
     "output_type": "stream",
     "text": [
      "True\n"
     ]
    },
    {
     "data": {
      "text/plain": [
       "False"
      ]
     },
     "execution_count": 13,
     "metadata": {},
     "output_type": "execute_result"
    }
   ],
   "source": [
    "#checking whether a value is in list\n",
    "\n",
    "req_toppings = ['musroom','corn','pepper']\n",
    "\n",
    "val ='mushroom' not in req_toppings\n",
    "print(val)\n",
    "\n",
    "'onion' in req_toppings"
   ]
  },
  {
   "cell_type": "code",
   "execution_count": 15,
   "metadata": {},
   "outputs": [
    {
     "name": "stdout",
     "output_type": "stream",
     "text": [
      "Tell me something and I will repeat thatGreetings Everyone\n",
      "Greetings Everyone\n"
     ]
    }
   ],
   "source": [
    "# Introduction to user inputs --> input functions\n",
    "\n",
    "msg = input('Tell me something and I will repeat that')\n",
    "\n",
    "print(msg)"
   ]
  }
 ],
 "metadata": {
  "kernelspec": {
   "display_name": "Python 3",
   "language": "python",
   "name": "python3"
  },
  "language_info": {
   "codemirror_mode": {
    "name": "ipython",
    "version": 3
   },
   "file_extension": ".py",
   "mimetype": "text/x-python",
   "name": "python",
   "nbconvert_exporter": "python",
   "pygments_lexer": "ipython3",
   "version": "3.7.3"
  }
 },
 "nbformat": 4,
 "nbformat_minor": 2
}
